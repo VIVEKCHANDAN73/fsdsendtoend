{
 "cells": [
  {
   "cell_type": "code",
   "execution_count": 2,
   "metadata": {},
   "outputs": [],
   "source": [
    "import pandas as pd\n",
    "import numpy as np"
   ]
  },
  {
   "cell_type": "code",
   "execution_count": 7,
   "metadata": {},
   "outputs": [],
   "source": [
    "data = pd.read_csv(\"./data/gemstone.csv\")"
   ]
  },
  {
   "cell_type": "code",
   "execution_count": 8,
   "metadata": {},
   "outputs": [],
   "source": [
    "data.drop(labels = 'id', axis=1, inplace=True)"
   ]
  },
  {
   "cell_type": "code",
   "execution_count": 18,
   "metadata": {},
   "outputs": [],
   "source": [
    "X = data.drop(labels='price', axis=1)\n",
    "y = data[['price']]"
   ]
  },
  {
   "cell_type": "code",
   "execution_count": 22,
   "metadata": {},
   "outputs": [],
   "source": [
    "categorical_cols = X.select_dtypes(include='object').columns"
   ]
  },
  {
   "cell_type": "code",
   "execution_count": 25,
   "metadata": {},
   "outputs": [
    {
     "data": {
      "text/plain": [
       "Index(['cut', 'color', 'clarity'], dtype='object')"
      ]
     },
     "execution_count": 25,
     "metadata": {},
     "output_type": "execute_result"
    }
   ],
   "source": [
    "categorical_cols"
   ]
  },
  {
   "cell_type": "code",
   "execution_count": 23,
   "metadata": {},
   "outputs": [],
   "source": [
    "numerical_cols = X.select_dtypes(exclude='object').columns"
   ]
  },
  {
   "cell_type": "code",
   "execution_count": 24,
   "metadata": {},
   "outputs": [
    {
     "data": {
      "text/plain": [
       "Index(['carat', 'depth', 'table', 'x', 'y', 'z'], dtype='object')"
      ]
     },
     "execution_count": 24,
     "metadata": {},
     "output_type": "execute_result"
    }
   ],
   "source": [
    "numerical_cols"
   ]
  },
  {
   "cell_type": "code",
   "execution_count": 26,
   "metadata": {},
   "outputs": [],
   "source": [
    "# Define the custom ranking for each ordinal variable\n",
    "cut_categories = ['Fair','Good','Very Good','Premium','Ideal']\n",
    "color_categories = ['D','E','F','G','H','I','J']\n",
    "clarity_categories = ['I1','SI2','SI1','VS2','VS1','VVS2','VVS1','IF']"
   ]
  },
  {
   "cell_type": "code",
   "execution_count": 27,
   "metadata": {},
   "outputs": [],
   "source": [
    "from sklearn.impute import SimpleImputer ## Handling missing values\n",
    "from sklearn.preprocessing import StandardScaler ## Handling feature scaling\n",
    "from sklearn.preprocessing import OrdinalEncoder ## Ordinal Encoding\n",
    "## pipelines\n",
    "from sklearn.pipeline import Pipeline\n",
    "from sklearn.compose import ColumnTransformer\n"
   ]
  },
  {
   "cell_type": "code",
   "execution_count": 28,
   "metadata": {},
   "outputs": [],
   "source": [
    "num_pipeline=Pipeline(\n",
    "\n",
    "    steps=[\n",
    "        ('imputer',SimpleImputer()),\n",
    "        ('scaler',StandardScaler())\n",
    "\n",
    "\n",
    "    ]\n",
    "\n",
    ")"
   ]
  },
  {
   "cell_type": "code",
   "execution_count": 29,
   "metadata": {},
   "outputs": [],
   "source": [
    "cat_pipeline=Pipeline(\n",
    "\n",
    "    steps=[\n",
    "        ('imputer',SimpleImputer(strategy='most_frequent')),\n",
    "        ('ordinalencoder',OrdinalEncoder(categories=[cut_categories,color_categories,clarity_categories]))\n",
    "\n",
    "\n",
    "    ]\n",
    "\n",
    "    \n",
    ")"
   ]
  },
  {
   "cell_type": "code",
   "execution_count": 30,
   "metadata": {},
   "outputs": [],
   "source": [
    "preprocessor=ColumnTransformer(\n",
    "\n",
    "    [\n",
    "\n",
    "        ('num_pipeline',num_pipeline,numerical_cols),\n",
    "        ('cat_pipeline',cat_pipeline,categorical_cols)\n",
    "    ]\n",
    "\n",
    "\n",
    "\n",
    ")"
   ]
  },
  {
   "cell_type": "code",
   "execution_count": 31,
   "metadata": {},
   "outputs": [],
   "source": [
    "## Train test split\n",
    "\n",
    "from sklearn.model_selection import train_test_split\n",
    "\n",
    "X_train,X_test,y_train,y_test=train_test_split(X,y,test_size=0.30,random_state=30)"
   ]
  },
  {
   "cell_type": "code",
   "execution_count": 32,
   "metadata": {},
   "outputs": [
    {
     "data": {
      "text/plain": [
       "array([[ 0.56167397,  0.31982286, -0.6510053 , ...,  4.        ,\n",
       "         3.        ,  4.        ],\n",
       "       [-0.60408689, -0.39681436,  1.58987791, ...,  2.        ,\n",
       "         1.        ,  2.        ],\n",
       "       [-0.52081826, -0.25348692, -1.09918195, ...,  4.        ,\n",
       "         4.        ,  1.        ],\n",
       "       ...,\n",
       "       [ 1.87315495,  0.7498052 , -0.20282866, ...,  2.        ,\n",
       "         4.        ,  4.        ],\n",
       "       [-1.04124722,  1.03646009, -0.20282866, ...,  1.        ,\n",
       "         0.        ,  1.        ],\n",
       "       [-0.54163542, -0.68346925, -0.20282866, ...,  4.        ,\n",
       "         0.        ,  2.        ]])"
      ]
     },
     "execution_count": 32,
     "metadata": {},
     "output_type": "execute_result"
    }
   ],
   "source": [
    "preprocessor.fit_transform(X_train)\n",
    "\n"
   ]
  },
  {
   "cell_type": "code",
   "execution_count": 34,
   "metadata": {},
   "outputs": [
    {
     "data": {
      "text/plain": [
       "array([[-8.33075636e-01,  1.76495416e-01,  1.58987791e+00, ...,\n",
       "         3.00000000e+00,  1.00000000e+00,  2.00000000e+00],\n",
       "       [ 2.91050915e-01, -9.70124145e-01,  6.93524626e-01, ...,\n",
       "         3.00000000e+00,  1.00000000e+00,  1.00000000e+00],\n",
       "       [ 6.24125449e-01, -3.96814364e-01, -2.02828660e-01, ...,\n",
       "         3.00000000e+00,  6.00000000e+00,  3.00000000e+00],\n",
       "       ...,\n",
       "       [-1.04124722e+00,  8.21468919e-01, -2.02828660e-01, ...,\n",
       "         2.00000000e+00,  2.00000000e+00,  3.00000000e+00],\n",
       "       [ 4.36771024e-01, -1.81823197e-01,  6.93524626e-01, ...,\n",
       "         3.00000000e+00,  3.00000000e+00,  2.00000000e+00],\n",
       "       [ 4.15953865e-01, -1.01840275e-14,  1.14170127e+00, ...,\n",
       "         3.00000000e+00,  1.00000000e+00,  1.00000000e+00]])"
      ]
     },
     "execution_count": 34,
     "metadata": {},
     "output_type": "execute_result"
    }
   ],
   "source": [
    "preprocessor.transform(X_test)"
   ]
  },
  {
   "cell_type": "code",
   "execution_count": 33,
   "metadata": {},
   "outputs": [
    {
     "data": {
      "text/plain": [
       "array(['num_pipeline__carat', 'num_pipeline__depth',\n",
       "       'num_pipeline__table', 'num_pipeline__x', 'num_pipeline__y',\n",
       "       'num_pipeline__z', 'cat_pipeline__cut', 'cat_pipeline__color',\n",
       "       'cat_pipeline__clarity'], dtype=object)"
      ]
     },
     "execution_count": 33,
     "metadata": {},
     "output_type": "execute_result"
    }
   ],
   "source": [
    "preprocessor.get_feature_names_out()"
   ]
  },
  {
   "cell_type": "code",
   "execution_count": 35,
   "metadata": {},
   "outputs": [],
   "source": [
    "X_train = pd.DataFrame(preprocessor.fit_transform(X_train),columns=preprocessor.get_feature_names_out())\n",
    "X_test = pd.DataFrame(preprocessor.transform(X_test),columns=preprocessor.get_feature_names_out())"
   ]
  },
  {
   "cell_type": "code",
   "execution_count": 38,
   "metadata": {},
   "outputs": [
    {
     "data": {
      "text/html": [
       "<div>\n",
       "<style scoped>\n",
       "    .dataframe tbody tr th:only-of-type {\n",
       "        vertical-align: middle;\n",
       "    }\n",
       "\n",
       "    .dataframe tbody tr th {\n",
       "        vertical-align: top;\n",
       "    }\n",
       "\n",
       "    .dataframe thead th {\n",
       "        text-align: right;\n",
       "    }\n",
       "</style>\n",
       "<table border=\"1\" class=\"dataframe\">\n",
       "  <thead>\n",
       "    <tr style=\"text-align: right;\">\n",
       "      <th></th>\n",
       "      <th>num_pipeline__carat</th>\n",
       "      <th>num_pipeline__depth</th>\n",
       "      <th>num_pipeline__table</th>\n",
       "      <th>num_pipeline__x</th>\n",
       "      <th>num_pipeline__y</th>\n",
       "      <th>num_pipeline__z</th>\n",
       "      <th>cat_pipeline__cut</th>\n",
       "      <th>cat_pipeline__color</th>\n",
       "      <th>cat_pipeline__clarity</th>\n",
       "    </tr>\n",
       "  </thead>\n",
       "  <tbody>\n",
       "    <tr>\n",
       "      <th>0</th>\n",
       "      <td>0.561674</td>\n",
       "      <td>0.319823</td>\n",
       "      <td>-0.651005</td>\n",
       "      <td>0.704838</td>\n",
       "      <td>0.692859</td>\n",
       "      <td>0.723432</td>\n",
       "      <td>4.0</td>\n",
       "      <td>3.0</td>\n",
       "      <td>4.0</td>\n",
       "    </tr>\n",
       "    <tr>\n",
       "      <th>1</th>\n",
       "      <td>-0.604087</td>\n",
       "      <td>-0.396814</td>\n",
       "      <td>1.589878</td>\n",
       "      <td>-0.533052</td>\n",
       "      <td>-0.486169</td>\n",
       "      <td>-0.533329</td>\n",
       "      <td>2.0</td>\n",
       "      <td>1.0</td>\n",
       "      <td>2.0</td>\n",
       "    </tr>\n",
       "    <tr>\n",
       "      <th>2</th>\n",
       "      <td>-0.520818</td>\n",
       "      <td>-0.253487</td>\n",
       "      <td>-1.099182</td>\n",
       "      <td>-0.409263</td>\n",
       "      <td>-0.376688</td>\n",
       "      <td>-0.410385</td>\n",
       "      <td>4.0</td>\n",
       "      <td>4.0</td>\n",
       "      <td>1.0</td>\n",
       "    </tr>\n",
       "    <tr>\n",
       "      <th>3</th>\n",
       "      <td>-0.999613</td>\n",
       "      <td>0.248159</td>\n",
       "      <td>-1.099182</td>\n",
       "      <td>-1.178523</td>\n",
       "      <td>-1.134635</td>\n",
       "      <td>-1.107067</td>\n",
       "      <td>4.0</td>\n",
       "      <td>4.0</td>\n",
       "      <td>4.0</td>\n",
       "    </tr>\n",
       "    <tr>\n",
       "      <th>4</th>\n",
       "      <td>0.228599</td>\n",
       "      <td>0.964796</td>\n",
       "      <td>-0.651005</td>\n",
       "      <td>0.413049</td>\n",
       "      <td>0.330729</td>\n",
       "      <td>0.477544</td>\n",
       "      <td>2.0</td>\n",
       "      <td>4.0</td>\n",
       "      <td>3.0</td>\n",
       "    </tr>\n",
       "  </tbody>\n",
       "</table>\n",
       "</div>"
      ],
      "text/plain": [
       "   num_pipeline__carat  num_pipeline__depth  num_pipeline__table  \\\n",
       "0             0.561674             0.319823            -0.651005   \n",
       "1            -0.604087            -0.396814             1.589878   \n",
       "2            -0.520818            -0.253487            -1.099182   \n",
       "3            -0.999613             0.248159            -1.099182   \n",
       "4             0.228599             0.964796            -0.651005   \n",
       "\n",
       "   num_pipeline__x  num_pipeline__y  num_pipeline__z  cat_pipeline__cut  \\\n",
       "0         0.704838         0.692859         0.723432                4.0   \n",
       "1        -0.533052        -0.486169        -0.533329                2.0   \n",
       "2        -0.409263        -0.376688        -0.410385                4.0   \n",
       "3        -1.178523        -1.134635        -1.107067                4.0   \n",
       "4         0.413049         0.330729         0.477544                2.0   \n",
       "\n",
       "   cat_pipeline__color  cat_pipeline__clarity  \n",
       "0                  3.0                    4.0  \n",
       "1                  1.0                    2.0  \n",
       "2                  4.0                    1.0  \n",
       "3                  4.0                    4.0  \n",
       "4                  4.0                    3.0  "
      ]
     },
     "execution_count": 38,
     "metadata": {},
     "output_type": "execute_result"
    }
   ],
   "source": [
    "X_train.head()"
   ]
  },
  {
   "cell_type": "code",
   "execution_count": 39,
   "metadata": {},
   "outputs": [
    {
     "data": {
      "text/html": [
       "<div>\n",
       "<style scoped>\n",
       "    .dataframe tbody tr th:only-of-type {\n",
       "        vertical-align: middle;\n",
       "    }\n",
       "\n",
       "    .dataframe tbody tr th {\n",
       "        vertical-align: top;\n",
       "    }\n",
       "\n",
       "    .dataframe thead th {\n",
       "        text-align: right;\n",
       "    }\n",
       "</style>\n",
       "<table border=\"1\" class=\"dataframe\">\n",
       "  <thead>\n",
       "    <tr style=\"text-align: right;\">\n",
       "      <th></th>\n",
       "      <th>num_pipeline__carat</th>\n",
       "      <th>num_pipeline__depth</th>\n",
       "      <th>num_pipeline__table</th>\n",
       "      <th>num_pipeline__x</th>\n",
       "      <th>num_pipeline__y</th>\n",
       "      <th>num_pipeline__z</th>\n",
       "      <th>cat_pipeline__cut</th>\n",
       "      <th>cat_pipeline__color</th>\n",
       "      <th>cat_pipeline__clarity</th>\n",
       "    </tr>\n",
       "  </thead>\n",
       "  <tbody>\n",
       "    <tr>\n",
       "      <th>0</th>\n",
       "      <td>-0.833076</td>\n",
       "      <td>0.176495</td>\n",
       "      <td>1.589878</td>\n",
       "      <td>-0.904419</td>\n",
       "      <td>-0.898829</td>\n",
       "      <td>-0.861180</td>\n",
       "      <td>3.0</td>\n",
       "      <td>1.0</td>\n",
       "      <td>2.0</td>\n",
       "    </tr>\n",
       "    <tr>\n",
       "      <th>1</th>\n",
       "      <td>0.291051</td>\n",
       "      <td>-0.970124</td>\n",
       "      <td>0.693525</td>\n",
       "      <td>0.536838</td>\n",
       "      <td>0.532848</td>\n",
       "      <td>0.409242</td>\n",
       "      <td>3.0</td>\n",
       "      <td>1.0</td>\n",
       "      <td>1.0</td>\n",
       "    </tr>\n",
       "    <tr>\n",
       "      <th>2</th>\n",
       "      <td>0.624125</td>\n",
       "      <td>-0.396814</td>\n",
       "      <td>-0.202829</td>\n",
       "      <td>0.819784</td>\n",
       "      <td>0.734967</td>\n",
       "      <td>0.709771</td>\n",
       "      <td>3.0</td>\n",
       "      <td>6.0</td>\n",
       "      <td>3.0</td>\n",
       "    </tr>\n",
       "    <tr>\n",
       "      <th>3</th>\n",
       "      <td>0.832297</td>\n",
       "      <td>-1.328443</td>\n",
       "      <td>2.934408</td>\n",
       "      <td>0.978942</td>\n",
       "      <td>0.886556</td>\n",
       "      <td>0.737092</td>\n",
       "      <td>1.0</td>\n",
       "      <td>1.0</td>\n",
       "      <td>2.0</td>\n",
       "    </tr>\n",
       "    <tr>\n",
       "      <th>4</th>\n",
       "      <td>-1.041247</td>\n",
       "      <td>-0.253487</td>\n",
       "      <td>0.693525</td>\n",
       "      <td>-1.293470</td>\n",
       "      <td>-1.210430</td>\n",
       "      <td>-1.243672</td>\n",
       "      <td>2.0</td>\n",
       "      <td>3.0</td>\n",
       "      <td>7.0</td>\n",
       "    </tr>\n",
       "  </tbody>\n",
       "</table>\n",
       "</div>"
      ],
      "text/plain": [
       "   num_pipeline__carat  num_pipeline__depth  num_pipeline__table  \\\n",
       "0            -0.833076             0.176495             1.589878   \n",
       "1             0.291051            -0.970124             0.693525   \n",
       "2             0.624125            -0.396814            -0.202829   \n",
       "3             0.832297            -1.328443             2.934408   \n",
       "4            -1.041247            -0.253487             0.693525   \n",
       "\n",
       "   num_pipeline__x  num_pipeline__y  num_pipeline__z  cat_pipeline__cut  \\\n",
       "0        -0.904419        -0.898829        -0.861180                3.0   \n",
       "1         0.536838         0.532848         0.409242                3.0   \n",
       "2         0.819784         0.734967         0.709771                3.0   \n",
       "3         0.978942         0.886556         0.737092                1.0   \n",
       "4        -1.293470        -1.210430        -1.243672                2.0   \n",
       "\n",
       "   cat_pipeline__color  cat_pipeline__clarity  \n",
       "0                  1.0                    2.0  \n",
       "1                  1.0                    1.0  \n",
       "2                  6.0                    3.0  \n",
       "3                  1.0                    2.0  \n",
       "4                  3.0                    7.0  "
      ]
     },
     "execution_count": 39,
     "metadata": {},
     "output_type": "execute_result"
    }
   ],
   "source": [
    "X_test.head()"
   ]
  },
  {
   "cell_type": "code",
   "execution_count": null,
   "metadata": {},
   "outputs": [],
   "source": []
  }
 ],
 "metadata": {
  "kernelspec": {
   "display_name": "Python 3",
   "language": "python",
   "name": "python3"
  },
  "language_info": {
   "codemirror_mode": {
    "name": "ipython",
    "version": 3
   },
   "file_extension": ".py",
   "mimetype": "text/x-python",
   "name": "python",
   "nbconvert_exporter": "python",
   "pygments_lexer": "ipython3",
   "version": "3.8.18"
  }
 },
 "nbformat": 4,
 "nbformat_minor": 2
}
